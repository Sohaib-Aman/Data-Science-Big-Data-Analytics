{
 "cells": [
  {
   "cell_type": "markdown",
   "metadata": {},
   "source": [
    "1. Find the largest element in the list."
   ]
  },
  {
   "cell_type": "code",
   "execution_count": null,
   "metadata": {},
   "outputs": [],
   "source": [
    "my_list = [10, 20, 4, 45, 99]\n",
    "largest = max(my_list)\n",
    "print(\"Largest element:\", largest)"
   ]
  },
  {
   "cell_type": "markdown",
   "metadata": {},
   "source": [
    "2. Input (either a digit or an alphabet ) from the user and display \"This is a number\" if user gives a number or display \"This is an alphabet\" if user writes an alphabet."
   ]
  },
  {
   "cell_type": "code",
   "execution_count": null,
   "metadata": {},
   "outputs": [],
   "source": [
    "user_input = input(\"Enter a digit or an alphabet: \")\n",
    "\n",
    "if user_input.isdigit():\n",
    "    print(\"This is a number\")\n",
    "elif user_input.isalpha():\n",
    "    print(\"This is an alphabet\")\n",
    "else:\n",
    "    print(\"Invalid input\")"
   ]
  },
  {
   "cell_type": "markdown",
   "metadata": {},
   "source": [
    "3. Print elements of a list at odd index positions."
   ]
  },
  {
   "cell_type": "code",
   "execution_count": null,
   "metadata": {},
   "outputs": [],
   "source": [
    "my_list = [1, 2, 3, 4, 5, 6, 7, 8, 9]\n",
    "odd_index_elements = [my_list[i] for i in range(1, len(my_list), 2)]\n",
    "print(\"Elements at odd index positions:\", odd_index_elements)"
   ]
  },
  {
   "cell_type": "markdown",
   "metadata": {},
   "source": [
    "4. Write a function that checks if the number passed is even or odd. The number should be input from the user."
   ]
  },
  {
   "cell_type": "code",
   "execution_count": null,
   "metadata": {},
   "outputs": [],
   "source": [
    "num = int(input(\"Enter a number: \"))\n",
    "\n",
    "if num % 2 == 0:\n",
    "    print(\"The number is even\")\n",
    "else:\n",
    "    print(\"The number is odd\")"
   ]
  },
  {
   "cell_type": "markdown",
   "metadata": {},
   "source": [
    "5. Make a list of ten elements and interchange the first and the last element."
   ]
  },
  {
   "cell_type": "code",
   "execution_count": null,
   "metadata": {},
   "outputs": [],
   "source": [
    "my_list = [1, 2, 3, 4, 5, 6, 7, 8, 9, 10]\n",
    "my_list[0], my_list[-1] = my_list[-1], my_list[0]\n",
    "print(\"List after swapping first and last elements:\", my_list)"
   ]
  },
  {
   "cell_type": "markdown",
   "metadata": {},
   "source": [
    "6. Write a function that prints \"Welcome User\" when called without passing the user's name. On passing the user's name the function should print the name after Welcome"
   ]
  },
  {
   "cell_type": "code",
   "execution_count": null,
   "metadata": {},
   "outputs": [],
   "source": [
    "name = input(\"Enter your name:\")\n",
    "\n",
    "if name:\n",
    "    print(f\"Welcome {name}\")\n",
    "else:\n",
    "    print(\"Welcome User\")"
   ]
  },
  {
   "cell_type": "markdown",
   "metadata": {},
   "source": [
    "7. Write a program that uses a String and all methods from the String class. Also explain the methods working with comments."
   ]
  },
  {
   "cell_type": "code",
   "execution_count": null,
   "metadata": {},
   "outputs": [],
   "source": [
    "my_string = \"Hello World\"\n",
    "\n",
    "print(my_string.upper())       # Converts all characters to uppercase\n",
    "print(my_string.lower())       # Converts all characters to lowercase\n",
    "print(my_string.capitalize())  # Capitalizes the first character\n",
    "print(my_string.replace(\"World\", \"Python\"))  # Replaces a substring\n",
    "print(my_string.split())       # Splits the string into a list of words\n",
    "print(my_string.startswith(\"Hello\"))  # Checks if the string starts with \"Hello\"\n",
    "print(my_string.endswith(\"World\"))    # Checks if the string ends with \"World\"\n",
    "print(my_string.find(\"o\"))     # Finds the first occurrence of \"o\""
   ]
  },
  {
   "cell_type": "markdown",
   "metadata": {},
   "source": [
    "8. Similarly, write a program that uses all methods of Tupple,Set, Dictionary and List class and explain"
   ]
  },
  {
   "cell_type": "code",
   "execution_count": null,
   "metadata": {},
   "outputs": [],
   "source": [
    "# Tuple\n",
    "my_tuple = (1, 2, 3)\n",
    "print(my_tuple.count(1))  # Counts occurrences of an element\n",
    "print(my_tuple.index(2))  # Finds the index of an element\n",
    "\n",
    "# Set\n",
    "my_set = {1, 2, 3}\n",
    "my_set.add(4)  # Adds an element\n",
    "my_set.remove(2)  # Removes an element\n",
    "print(my_set)\n",
    "\n",
    "# Dictionary\n",
    "my_dict = {'a': 1, 'b': 2}\n",
    "print(my_dict.keys())  # Gets all keys\n",
    "print(my_dict.values())  # Gets all values\n",
    "my_dict.update({'c': 3})  # Adds a new key-value pair\n",
    "print(my_dict)\n",
    "\n",
    "# List\n",
    "my_list = [1, 2, 3]\n",
    "my_list.append(4)  # Adds an element\n",
    "my_list.remove(2)  # Removes an element\n",
    "print(my_list)\n",
    "my_list.reverse()  # Reverses the list\n",
    "print(my_list)"
   ]
  },
  {
   "cell_type": "markdown",
   "metadata": {},
   "source": [
    "9. Remove all occurrences of a specific item from list"
   ]
  },
  {
   "cell_type": "code",
   "execution_count": null,
   "metadata": {},
   "outputs": [],
   "source": [
    "my_list = [1, 2, 3, 2, 4, 2]\n",
    "item_to_remove = 2\n",
    "my_list = [i for i in my_list if i != item_to_remove]\n",
    "print(\"List after removing all occurrences of 2:\", my_list)"
   ]
  },
  {
   "cell_type": "markdown",
   "metadata": {},
   "source": [
    "10. Write a program which will find all the numbers which are divisible by 5 but are not a multiple of 10,\n",
    "between 10 and 150 (both included)."
   ]
  },
  {
   "cell_type": "code",
   "execution_count": null,
   "metadata": {},
   "outputs": [],
   "source": [
    "result = [i for i in range(10, 151) if i % 5 == 0 and i % 10 != 0]\n",
    "print(\"Numbers divisible by 5 but not 10:\", result)"
   ]
  },
  {
   "cell_type": "markdown",
   "metadata": {},
   "source": [
    "11. Write a program to check the validity of password input by users.\n",
    "Following are the criteria for checking the password: (At least 1 letter between [a-z] ,at least 1 number between [0-9], at least 1 letter between [A-Z])"
   ]
  },
  {
   "cell_type": "code",
   "execution_count": null,
   "metadata": {},
   "outputs": [],
   "source": [
    "password = input(\"Enter a password: \")\n",
    "\n",
    "if (any(char.islower() for char in password) and\n",
    "    any(char.isupper() for char in password) and\n",
    "    any(char.isdigit() for char in password)):\n",
    "    print(\"Password is valid\")\n",
    "else:\n",
    "    print(\"Password is invalid\")"
   ]
  },
  {
   "cell_type": "markdown",
   "metadata": {},
   "source": [
    "12. Create a function that takes a list as input and returns it without duplicated elements."
   ]
  },
  {
   "cell_type": "code",
   "execution_count": null,
   "metadata": {},
   "outputs": [],
   "source": [
    "my_list = [1, 2, 2, 3, 4, 4, 5]\n",
    "my_list = list(set(my_list))\n",
    "print(\"List without duplicates:\", my_list)"
   ]
  }
 ],
 "metadata": {
  "language_info": {
   "name": "python"
  }
 },
 "nbformat": 4,
 "nbformat_minor": 2
}
