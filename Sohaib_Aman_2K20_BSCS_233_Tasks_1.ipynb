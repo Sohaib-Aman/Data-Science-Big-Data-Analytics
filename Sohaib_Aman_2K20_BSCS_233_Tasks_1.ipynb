{
  "nbformat": 4,
  "nbformat_minor": 0,
  "metadata": {
    "colab": {
      "provenance": []
    },
    "kernelspec": {
      "name": "python3",
      "display_name": "Python 3"
    },
    "language_info": {
      "name": "python"
    }
  },
  "cells": [
    {
      "cell_type": "code",
      "execution_count": null,
      "metadata": {
        "colab": {
          "base_uri": "https://localhost:8080/"
        },
        "id": "_YvTWm-rTWF1",
        "outputId": "baf4b155-4575-4318-90a4-81d5de086fa5"
      },
      "outputs": [
        {
          "output_type": "stream",
          "name": "stdout",
          "text": [
            "8\n"
          ]
        }
      ],
      "source": [
        "def largest_element(lst):\n",
        "    return max(lst)\n",
        "\n",
        "# Example usage:\n",
        "numbers = [3, 5, 1, 8, 2]\n",
        "print(largest_element(numbers))  # Output: 8"
      ]
    },
    {
      "cell_type": "code",
      "source": [
        "user_input = input(\"Enter a digit or an alphabet: \")\n",
        "if user_input.isdigit():\n",
        "    print(\"This is a number\")\n",
        "elif user_input.isalpha():\n",
        "    print(\"This is an alphabet\")\n",
        "else:\n",
        "    print(\"Invalid input\")"
      ],
      "metadata": {
        "colab": {
          "base_uri": "https://localhost:8080/"
        },
        "id": "DelJI-RzUIQg",
        "outputId": "46819c4e-3b2d-412e-c92a-e81feafeb83d"
      },
      "execution_count": null,
      "outputs": [
        {
          "output_type": "stream",
          "name": "stdout",
          "text": [
            "Enter a digit or an alphabet: 5\n",
            "This is a number\n"
          ]
        }
      ]
    },
    {
      "cell_type": "code",
      "source": [
        "def print_odd_index_elements(lst):\n",
        "    return [lst[i] for i in range(len(lst)) if i % 2 != 0]\n",
        "\n",
        "# Example usage:\n",
        "elements = [10, 20, 30, 40, 50]\n",
        "print(print_odd_index_elements(elements))  # Output: [20, 40]"
      ],
      "metadata": {
        "colab": {
          "base_uri": "https://localhost:8080/"
        },
        "id": "HD1EVsnqUSVP",
        "outputId": "8bc830c4-06c5-4e68-f096-188b4047e849"
      },
      "execution_count": null,
      "outputs": [
        {
          "output_type": "stream",
          "name": "stdout",
          "text": [
            "[20, 40]\n"
          ]
        }
      ]
    },
    {
      "cell_type": "code",
      "source": [
        "def check_even_odd():\n",
        "    number = int(input(\"Enter a number: \"))\n",
        "    if number % 2 == 0:\n",
        "        print(\"Even\")\n",
        "    else:\n",
        "        print(\"Odd\")\n",
        "\n",
        "check_even_odd()"
      ],
      "metadata": {
        "colab": {
          "base_uri": "https://localhost:8080/"
        },
        "id": "w2gISjddUXU6",
        "outputId": "461fbad6-6ec5-476e-b38b-cf3b6993114b"
      },
      "execution_count": null,
      "outputs": [
        {
          "output_type": "stream",
          "name": "stdout",
          "text": [
            "Enter a number: 5\n",
            "Odd\n"
          ]
        }
      ]
    },
    {
      "cell_type": "code",
      "source": [
        "def interchange_first_last(lst):\n",
        "    if len(lst) > 1:\n",
        "        lst[0], lst[-1] = lst[-1], lst[0]\n",
        "    return lst\n",
        "\n",
        "# Example usage:\n",
        "my_list = [1, 2, 3, 4, 5]\n",
        "print(interchange_first_last(my_list))  # Output: [5, 2, 3, 4, 1]"
      ],
      "metadata": {
        "colab": {
          "base_uri": "https://localhost:8080/"
        },
        "id": "tZS4Yps5UvBi",
        "outputId": "957a2538-309e-4a2a-ef7c-2d20be427518"
      },
      "execution_count": null,
      "outputs": [
        {
          "output_type": "stream",
          "name": "stdout",
          "text": [
            "[5, 2, 3, 4, 1]\n"
          ]
        }
      ]
    },
    {
      "cell_type": "code",
      "source": [
        "def welcome_user(name=None):\n",
        "    if name:\n",
        "        print(f\"Welcome {name}\")\n",
        "    else:\n",
        "        print(\"Welcome User\")\n",
        "\n",
        "# Example usage:\n",
        "welcome_user()  # Output: Welcome User\n",
        "welcome_user(\"Alice\")  # Output: Welcome Alice"
      ],
      "metadata": {
        "colab": {
          "base_uri": "https://localhost:8080/"
        },
        "id": "5vH9SimaU2X9",
        "outputId": "323fb47c-e308-4abc-afe9-29dad626bda8"
      },
      "execution_count": null,
      "outputs": [
        {
          "output_type": "stream",
          "name": "stdout",
          "text": [
            "Welcome User\n",
            "Welcome Alice\n"
          ]
        }
      ]
    },
    {
      "cell_type": "code",
      "source": [
        "s = \"Hello World!\"\n",
        "\n",
        "# String methods\n",
        "print(s.lower())       # Converts to lowercase: \"hello world!\"\n",
        "print(s.upper())       # Converts to uppercase: \"HELLO WORLD!\"\n",
        "print(s.title())       # Converts to title case: \"Hello World!\"\n",
        "print(s.strip())       # Removes leading and trailing whitespace: \"Hello World!\"\n",
        "print(s.split())       # Splits the string into a list: [\"Hello\", \"World!\"]\n",
        "print(s.replace(\"World\", \"Python\"))  # Replaces \"World\" with \"Python\": \"Hello Python!\""
      ],
      "metadata": {
        "colab": {
          "base_uri": "https://localhost:8080/"
        },
        "id": "6OicBOMlVC5W",
        "outputId": "a3d24fd2-a6a7-4051-a550-efd2664bb4ff"
      },
      "execution_count": null,
      "outputs": [
        {
          "output_type": "stream",
          "name": "stdout",
          "text": [
            "hello world!\n",
            "HELLO WORLD!\n",
            "Hello World!\n",
            "Hello World!\n",
            "['Hello', 'World!']\n",
            "Hello Python!\n"
          ]
        }
      ]
    },
    {
      "cell_type": "code",
      "source": [
        "# Tuple\n",
        "t = (1, 2, 3)\n",
        "print(t.count(2))      # Counts occurrences of 2: 1\n",
        "print(t.index(3))      # Finds index of 3: 2\n",
        "\n",
        "# Set\n",
        "s = {1, 2, 3}\n",
        "s.add(4)                # Adds 4 to the set\n",
        "print(s)                # Output: {1, 2, 3, 4}\n",
        "s.remove(2)            # Removes 2 from the set\n",
        "print(s)                # Output: {1, 3, 4}\n",
        "\n",
        "# Dictionary\n",
        "d = {\"a\": 1, \"b\": 2}\n",
        "d[\"c\"] = 3             # Adds a new key-value pair\n",
        "print(d)               # Output: {'a': 1, 'b': 2, 'c': 3}\n",
        "print(d.keys())        # Prints keys: dict_keys(['a', 'b', 'c'])\n",
        "print(d.values())      # Prints values: dict_values([1, 2, 3])\n",
        "\n",
        "# List\n",
        "lst = [1, 2, 3]\n",
        "lst.append(4)          # Adds 4 to the end of the list\n",
        "print(lst)             # Output: [1, 2, 3, 4]\n",
        "lst.sort()             # Sorts the list\n",
        "print(lst)             # Output: [1, 2, 3, 4]"
      ],
      "metadata": {
        "colab": {
          "base_uri": "https://localhost:8080/"
        },
        "id": "2vCIoUI5VL_A",
        "outputId": "239f402f-4cce-415d-a504-f21afbaeb13d"
      },
      "execution_count": null,
      "outputs": [
        {
          "output_type": "stream",
          "name": "stdout",
          "text": [
            "1\n",
            "2\n",
            "{1, 2, 3, 4}\n",
            "{1, 3, 4}\n",
            "{'a': 1, 'b': 2, 'c': 3}\n",
            "dict_keys(['a', 'b', 'c'])\n",
            "dict_values([1, 2, 3])\n",
            "[1, 2, 3, 4]\n",
            "[1, 2, 3, 4]\n"
          ]
        }
      ]
    },
    {
      "cell_type": "code",
      "source": [
        "def remove_item(lst, item):\n",
        "    return [x for x in lst if x != item]\n",
        "\n",
        "# Example usage:\n",
        "my_list = [1, 2, 3, 1, 4]\n",
        "print(remove_item(my_list, 1))  # Output: [2, 3, 4]"
      ],
      "metadata": {
        "colab": {
          "base_uri": "https://localhost:8080/"
        },
        "id": "xnHMZN2AVVAE",
        "outputId": "5da26288-51fd-4be2-f6e8-40c23ce4aeda"
      },
      "execution_count": null,
      "outputs": [
        {
          "output_type": "stream",
          "name": "stdout",
          "text": [
            "[2, 3, 4]\n"
          ]
        }
      ]
    },
    {
      "cell_type": "code",
      "source": [
        "numbers = [x for x in range(10, 151) if x % 5 == 0 and x % 10 != 0]\n",
        "print(numbers)  # Output: [15, 25, 35, 45, 55, 65, 75, 85, 95, 105, 115, 125, 135, 145]"
      ],
      "metadata": {
        "colab": {
          "base_uri": "https://localhost:8080/"
        },
        "id": "tD-VcR29VZb_",
        "outputId": "ce106d6a-8b19-4ead-ea35-342857da965f"
      },
      "execution_count": null,
      "outputs": [
        {
          "output_type": "stream",
          "name": "stdout",
          "text": [
            "[15, 25, 35, 45, 55, 65, 75, 85, 95, 105, 115, 125, 135, 145]\n"
          ]
        }
      ]
    },
    {
      "cell_type": "code",
      "source": [
        "import re\n",
        "\n",
        "def password_validity(password):\n",
        "    if (re.search(r\"[a-z]\", password) and\n",
        "            re.search(r\"[A-Z]\", password) and\n",
        "            re.search(r\"[0-9]\", password)):\n",
        "        print(\"Password is valid\")\n",
        "    else:\n",
        "        print(\"Password is invalid\")\n",
        "\n",
        "# Example usage:\n",
        "password_validity(\"Password1\")  # Output: Password is valid"
      ],
      "metadata": {
        "colab": {
          "base_uri": "https://localhost:8080/"
        },
        "id": "DyIKH2yuVes5",
        "outputId": "d6142c2a-78ad-4c90-dac1-70ecf57dcb72"
      },
      "execution_count": null,
      "outputs": [
        {
          "output_type": "stream",
          "name": "stdout",
          "text": [
            "Password is valid\n"
          ]
        }
      ]
    },
    {
      "cell_type": "code",
      "source": [
        "def remove_duplicates(lst):\n",
        "    return list(set(lst))\n",
        "\n",
        "# Example usage:\n",
        "my_list = [1, 2, 2, 3, 4, 4]\n",
        "print(remove_duplicates(my_list))  # Output: [1, 2, 3, 4]"
      ],
      "metadata": {
        "id": "zZ175wryVlgW",
        "outputId": "4a091eec-c6dd-4a01-9c76-599e3b0054d5",
        "colab": {
          "base_uri": "https://localhost:8080/"
        }
      },
      "execution_count": null,
      "outputs": [
        {
          "output_type": "stream",
          "name": "stdout",
          "text": [
            "[1, 2, 3, 4]\n"
          ]
        }
      ]
    }
  ]
}